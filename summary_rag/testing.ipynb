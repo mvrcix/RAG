{
 "cells": [
  {
   "cell_type": "code",
   "execution_count": 1,
   "metadata": {},
   "outputs": [
    {
     "name": "stdout",
     "output_type": "stream",
     "text": [
      "Requirement already satisfied: langchain in /home/vqa/masterthesis/ourproject/venv8/lib/python3.8/site-packages (0.1.9)\n",
      "Requirement already satisfied: unstructured[all-docs] in /home/vqa/masterthesis/ourproject/venv8/lib/python3.8/site-packages (0.11.6)\n",
      "Requirement already satisfied: pydantic in /home/vqa/masterthesis/ourproject/venv8/lib/python3.8/site-packages (1.10.13)\n",
      "Requirement already satisfied: lxml in /home/vqa/masterthesis/ourproject/venv8/lib/python3.8/site-packages (5.1.0)\n",
      "Requirement already satisfied: SQLAlchemy<3,>=1.4 in /home/vqa/masterthesis/ourproject/venv8/lib/python3.8/site-packages (from langchain) (2.0.25)\n",
      "Requirement already satisfied: tenacity<9.0.0,>=8.1.0 in /home/vqa/masterthesis/ourproject/venv8/lib/python3.8/site-packages (from langchain) (8.2.3)\n",
      "Requirement already satisfied: PyYAML>=5.3 in /home/vqa/masterthesis/ourproject/venv8/lib/python3.8/site-packages (from langchain) (6.0.1)\n",
      "Requirement already satisfied: jsonpatch<2.0,>=1.33 in /home/vqa/masterthesis/ourproject/venv8/lib/python3.8/site-packages (from langchain) (1.33)\n",
      "Requirement already satisfied: dataclasses-json<0.7,>=0.5.7 in /home/vqa/masterthesis/ourproject/venv8/lib/python3.8/site-packages (from langchain) (0.6.3)\n",
      "Requirement already satisfied: langsmith<0.2.0,>=0.1.0 in /home/vqa/masterthesis/ourproject/venv8/lib/python3.8/site-packages (from langchain) (0.1.9)\n",
      "Requirement already satisfied: numpy<2,>=1 in /home/vqa/masterthesis/ourproject/venv8/lib/python3.8/site-packages (from langchain) (1.24.4)\n",
      "Requirement already satisfied: aiohttp<4.0.0,>=3.8.3 in /home/vqa/masterthesis/ourproject/venv8/lib/python3.8/site-packages (from langchain) (3.9.1)\n",
      "Requirement already satisfied: langchain-community<0.1,>=0.0.21 in /home/vqa/masterthesis/ourproject/venv8/lib/python3.8/site-packages (from langchain) (0.0.24)\n",
      "Requirement already satisfied: async-timeout<5.0.0,>=4.0.0; python_version < \"3.11\" in /home/vqa/masterthesis/ourproject/venv8/lib/python3.8/site-packages (from langchain) (4.0.3)\n",
      "Requirement already satisfied: langchain-core<0.2,>=0.1.26 in /home/vqa/masterthesis/ourproject/venv8/lib/python3.8/site-packages (from langchain) (0.1.27)\n",
      "Requirement already satisfied: requests<3,>=2 in /home/vqa/masterthesis/ourproject/venv8/lib/python3.8/site-packages (from langchain) (2.31.0)\n",
      "Requirement already satisfied: tabulate in /home/vqa/masterthesis/ourproject/venv8/lib/python3.8/site-packages (from unstructured[all-docs]) (0.9.0)\n",
      "Requirement already satisfied: chardet in /home/vqa/masterthesis/ourproject/venv8/lib/python3.8/site-packages (from unstructured[all-docs]) (5.2.0)\n",
      "Requirement already satisfied: langdetect in /home/vqa/masterthesis/ourproject/venv8/lib/python3.8/site-packages (from unstructured[all-docs]) (1.0.9)\n",
      "Requirement already satisfied: python-magic in /home/vqa/masterthesis/ourproject/venv8/lib/python3.8/site-packages (from unstructured[all-docs]) (0.4.27)\n",
      "Requirement already satisfied: backoff in /home/vqa/masterthesis/ourproject/venv8/lib/python3.8/site-packages (from unstructured[all-docs]) (2.2.1)\n",
      "Requirement already satisfied: beautifulsoup4 in /home/vqa/masterthesis/ourproject/venv8/lib/python3.8/site-packages (from unstructured[all-docs]) (4.12.2)\n",
      "Requirement already satisfied: emoji in /home/vqa/masterthesis/ourproject/venv8/lib/python3.8/site-packages (from unstructured[all-docs]) (2.9.0)\n",
      "Requirement already satisfied: filetype in /home/vqa/masterthesis/ourproject/venv8/lib/python3.8/site-packages (from unstructured[all-docs]) (1.2.0)\n",
      "Requirement already satisfied: typing-extensions in /home/vqa/masterthesis/ourproject/venv8/lib/python3.8/site-packages (from unstructured[all-docs]) (4.9.0)\n",
      "Requirement already satisfied: unstructured-client in /home/vqa/masterthesis/ourproject/venv8/lib/python3.8/site-packages (from unstructured[all-docs]) (0.15.1)\n",
      "Requirement already satisfied: python-iso639 in /home/vqa/masterthesis/ourproject/venv8/lib/python3.8/site-packages (from unstructured[all-docs]) (2024.1.2)\n",
      "Requirement already satisfied: rapidfuzz in /home/vqa/masterthesis/ourproject/venv8/lib/python3.8/site-packages (from unstructured[all-docs]) (3.6.1)\n",
      "Requirement already satisfied: nltk in /home/vqa/masterthesis/ourproject/venv8/lib/python3.8/site-packages (from unstructured[all-docs]) (3.8.1)\n",
      "Requirement already satisfied: wrapt in /home/vqa/masterthesis/ourproject/venv8/lib/python3.8/site-packages (from unstructured[all-docs]) (1.16.0)\n",
      "Requirement already satisfied: python-docx>=1.1.0; extra == \"all-docs\" in /home/vqa/masterthesis/ourproject/venv8/lib/python3.8/site-packages (from unstructured[all-docs]) (1.1.0)\n",
      "Requirement already satisfied: python-pptx<=0.6.23; extra == \"all-docs\" in /home/vqa/masterthesis/ourproject/venv8/lib/python3.8/site-packages (from unstructured[all-docs]) (0.6.21)\n",
      "Requirement already satisfied: networkx; extra == \"all-docs\" in /home/vqa/masterthesis/ourproject/venv8/lib/python3.8/site-packages (from unstructured[all-docs]) (3.1)\n",
      "Requirement already satisfied: pikepdf; extra == \"all-docs\" in /home/vqa/masterthesis/ourproject/venv8/lib/python3.8/site-packages (from unstructured[all-docs]) (8.12.0)\n",
      "Requirement already satisfied: unstructured.pytesseract>=0.3.12; extra == \"all-docs\" in /home/vqa/masterthesis/ourproject/venv8/lib/python3.8/site-packages (from unstructured[all-docs]) (0.3.12)\n",
      "Requirement already satisfied: xlrd; extra == \"all-docs\" in /home/vqa/masterthesis/ourproject/venv8/lib/python3.8/site-packages (from unstructured[all-docs]) (2.0.1)\n",
      "Requirement already satisfied: pandas; extra == \"all-docs\" in /home/vqa/masterthesis/ourproject/venv8/lib/python3.8/site-packages (from unstructured[all-docs]) (2.0.3)\n",
      "Requirement already satisfied: onnx; extra == \"all-docs\" in /home/vqa/masterthesis/ourproject/venv8/lib/python3.8/site-packages (from unstructured[all-docs]) (1.14.1)\n",
      "Requirement already satisfied: pdfminer.six; extra == \"all-docs\" in /home/vqa/masterthesis/ourproject/venv8/lib/python3.8/site-packages (from unstructured[all-docs]) (20231228)\n",
      "Requirement already satisfied: pypandoc; extra == \"all-docs\" in /home/vqa/masterthesis/ourproject/venv8/lib/python3.8/site-packages (from unstructured[all-docs]) (1.12)\n",
      "Requirement already satisfied: openpyxl; extra == \"all-docs\" in /home/vqa/masterthesis/ourproject/venv8/lib/python3.8/site-packages (from unstructured[all-docs]) (3.1.2)\n",
      "Requirement already satisfied: unstructured-inference==0.7.18; extra == \"all-docs\" in /home/vqa/masterthesis/ourproject/venv8/lib/python3.8/site-packages (from unstructured[all-docs]) (0.7.18)\n",
      "Requirement already satisfied: pypdf; extra == \"all-docs\" in /home/vqa/masterthesis/ourproject/venv8/lib/python3.8/site-packages (from unstructured[all-docs]) (4.0.1)\n",
      "Requirement already satisfied: pdf2image; extra == \"all-docs\" in /home/vqa/masterthesis/ourproject/venv8/lib/python3.8/site-packages (from unstructured[all-docs]) (1.16.3)\n",
      "Requirement already satisfied: markdown; extra == \"all-docs\" in /home/vqa/masterthesis/ourproject/venv8/lib/python3.8/site-packages (from unstructured[all-docs]) (3.5.2)\n",
      "Requirement already satisfied: msg-parser; extra == \"all-docs\" in /home/vqa/masterthesis/ourproject/venv8/lib/python3.8/site-packages (from unstructured[all-docs]) (1.2.0)\n",
      "Requirement already satisfied: greenlet!=0.4.17; platform_machine == \"aarch64\" or (platform_machine == \"ppc64le\" or (platform_machine == \"x86_64\" or (platform_machine == \"amd64\" or (platform_machine == \"AMD64\" or (platform_machine == \"win32\" or platform_machine == \"WIN32\"))))) in /home/vqa/masterthesis/ourproject/venv8/lib/python3.8/site-packages (from SQLAlchemy<3,>=1.4->langchain) (3.0.3)\n",
      "Requirement already satisfied: jsonpointer>=1.9 in /home/vqa/masterthesis/ourproject/venv8/lib/python3.8/site-packages (from jsonpatch<2.0,>=1.33->langchain) (2.4)\n",
      "Requirement already satisfied: typing-inspect<1,>=0.4.0 in /home/vqa/masterthesis/ourproject/venv8/lib/python3.8/site-packages (from dataclasses-json<0.7,>=0.5.7->langchain) (0.9.0)\n",
      "Requirement already satisfied: marshmallow<4.0.0,>=3.18.0 in /home/vqa/masterthesis/ourproject/venv8/lib/python3.8/site-packages (from dataclasses-json<0.7,>=0.5.7->langchain) (3.20.1)\n",
      "Requirement already satisfied: orjson<4.0.0,>=3.9.14 in /home/vqa/masterthesis/ourproject/venv8/lib/python3.8/site-packages (from langsmith<0.2.0,>=0.1.0->langchain) (3.9.15)\n",
      "Requirement already satisfied: aiosignal>=1.1.2 in /home/vqa/masterthesis/ourproject/venv8/lib/python3.8/site-packages (from aiohttp<4.0.0,>=3.8.3->langchain) (1.3.1)\n",
      "Requirement already satisfied: multidict<7.0,>=4.5 in /home/vqa/masterthesis/ourproject/venv8/lib/python3.8/site-packages (from aiohttp<4.0.0,>=3.8.3->langchain) (6.0.4)\n",
      "Requirement already satisfied: attrs>=17.3.0 in /home/vqa/masterthesis/ourproject/venv8/lib/python3.8/site-packages (from aiohttp<4.0.0,>=3.8.3->langchain) (23.2.0)\n",
      "Requirement already satisfied: yarl<2.0,>=1.0 in /home/vqa/masterthesis/ourproject/venv8/lib/python3.8/site-packages (from aiohttp<4.0.0,>=3.8.3->langchain) (1.9.4)\n",
      "Requirement already satisfied: frozenlist>=1.1.1 in /home/vqa/masterthesis/ourproject/venv8/lib/python3.8/site-packages (from aiohttp<4.0.0,>=3.8.3->langchain) (1.4.1)\n",
      "Requirement already satisfied: anyio<5,>=3 in /home/vqa/masterthesis/ourproject/venv8/lib/python3.8/site-packages (from langchain-core<0.2,>=0.1.26->langchain) (4.2.0)\n",
      "Requirement already satisfied: packaging<24.0,>=23.2 in /home/vqa/masterthesis/ourproject/venv8/lib/python3.8/site-packages (from langchain-core<0.2,>=0.1.26->langchain) (23.2)\n",
      "Requirement already satisfied: idna<4,>=2.5 in /home/vqa/masterthesis/ourproject/venv8/lib/python3.8/site-packages (from requests<3,>=2->langchain) (3.6)\n",
      "Requirement already satisfied: urllib3<3,>=1.21.1 in /home/vqa/masterthesis/ourproject/venv8/lib/python3.8/site-packages (from requests<3,>=2->langchain) (2.1.0)\n",
      "Requirement already satisfied: certifi>=2017.4.17 in /home/vqa/masterthesis/ourproject/venv8/lib/python3.8/site-packages (from requests<3,>=2->langchain) (2023.11.17)\n",
      "Requirement already satisfied: charset-normalizer<4,>=2 in /home/vqa/masterthesis/ourproject/venv8/lib/python3.8/site-packages (from requests<3,>=2->langchain) (3.3.2)\n",
      "Requirement already satisfied: six in /home/vqa/masterthesis/ourproject/venv8/lib/python3.8/site-packages (from langdetect->unstructured[all-docs]) (1.16.0)\n",
      "Requirement already satisfied: soupsieve>1.2 in /home/vqa/masterthesis/ourproject/venv8/lib/python3.8/site-packages (from beautifulsoup4->unstructured[all-docs]) (2.5)\n",
      "Requirement already satisfied: mypy-extensions>=1.0.0 in /home/vqa/masterthesis/ourproject/venv8/lib/python3.8/site-packages (from unstructured-client->unstructured[all-docs]) (1.0.0)\n",
      "Requirement already satisfied: jsonpath-python>=1.0.6 in /home/vqa/masterthesis/ourproject/venv8/lib/python3.8/site-packages (from unstructured-client->unstructured[all-docs]) (1.0.6)\n",
      "Requirement already satisfied: python-dateutil>=2.8.2 in /home/vqa/masterthesis/ourproject/venv8/lib/python3.8/site-packages (from unstructured-client->unstructured[all-docs]) (2.8.2)\n",
      "Requirement already satisfied: regex>=2021.8.3 in /home/vqa/masterthesis/ourproject/venv8/lib/python3.8/site-packages (from nltk->unstructured[all-docs]) (2023.12.25)\n",
      "Requirement already satisfied: tqdm in /home/vqa/masterthesis/ourproject/venv8/lib/python3.8/site-packages (from nltk->unstructured[all-docs]) (4.66.1)\n",
      "Requirement already satisfied: joblib in /home/vqa/masterthesis/ourproject/venv8/lib/python3.8/site-packages (from nltk->unstructured[all-docs]) (1.3.2)\n",
      "Requirement already satisfied: click in /home/vqa/masterthesis/ourproject/venv8/lib/python3.8/site-packages (from nltk->unstructured[all-docs]) (8.1.7)\n",
      "Requirement already satisfied: Pillow>=3.3.2 in /home/vqa/masterthesis/ourproject/venv8/lib/python3.8/site-packages (from python-pptx<=0.6.23; extra == \"all-docs\"->unstructured[all-docs]) (10.1.0)\n",
      "Requirement already satisfied: XlsxWriter>=0.5.7 in /home/vqa/masterthesis/ourproject/venv8/lib/python3.8/site-packages (from python-pptx<=0.6.23; extra == \"all-docs\"->unstructured[all-docs]) (3.1.9)\n",
      "Requirement already satisfied: Deprecated in /home/vqa/masterthesis/ourproject/venv8/lib/python3.8/site-packages (from pikepdf; extra == \"all-docs\"->unstructured[all-docs]) (1.2.14)\n",
      "Requirement already satisfied: tzdata>=2022.1 in /home/vqa/masterthesis/ourproject/venv8/lib/python3.8/site-packages (from pandas; extra == \"all-docs\"->unstructured[all-docs]) (2023.4)\n",
      "Requirement already satisfied: pytz>=2020.1 in /home/vqa/masterthesis/ourproject/venv8/lib/python3.8/site-packages (from pandas; extra == \"all-docs\"->unstructured[all-docs]) (2023.3.post1)\n",
      "Requirement already satisfied: protobuf>=3.20.2 in /home/vqa/masterthesis/ourproject/venv8/lib/python3.8/site-packages (from onnx; extra == \"all-docs\"->unstructured[all-docs]) (4.25.1)\n",
      "Requirement already satisfied: cryptography>=36.0.0 in /home/vqa/masterthesis/ourproject/venv8/lib/python3.8/site-packages (from pdfminer.six; extra == \"all-docs\"->unstructured[all-docs]) (41.0.7)\n",
      "Requirement already satisfied: et-xmlfile in /home/vqa/masterthesis/ourproject/venv8/lib/python3.8/site-packages (from openpyxl; extra == \"all-docs\"->unstructured[all-docs]) (1.1.0)\n",
      "Requirement already satisfied: opencv-python!=4.7.0.68 in /home/vqa/masterthesis/ourproject/venv8/lib/python3.8/site-packages (from unstructured-inference==0.7.18; extra == \"all-docs\"->unstructured[all-docs]) (4.9.0.80)\n",
      "Requirement already satisfied: onnxruntime<1.16 in /home/vqa/masterthesis/ourproject/venv8/lib/python3.8/site-packages (from unstructured-inference==0.7.18; extra == \"all-docs\"->unstructured[all-docs]) (1.15.1)\n",
      "Requirement already satisfied: layoutparser[layoutmodels,tesseract] in /home/vqa/masterthesis/ourproject/venv8/lib/python3.8/site-packages (from unstructured-inference==0.7.18; extra == \"all-docs\"->unstructured[all-docs]) (0.3.4)\n",
      "Requirement already satisfied: python-multipart in /home/vqa/masterthesis/ourproject/venv8/lib/python3.8/site-packages (from unstructured-inference==0.7.18; extra == \"all-docs\"->unstructured[all-docs]) (0.0.9)\n",
      "Requirement already satisfied: huggingface-hub in /home/vqa/masterthesis/ourproject/venv8/lib/python3.8/site-packages (from unstructured-inference==0.7.18; extra == \"all-docs\"->unstructured[all-docs]) (0.20.2)\n",
      "Requirement already satisfied: transformers>=4.25.1 in /home/vqa/masterthesis/ourproject/venv8/lib/python3.8/site-packages (from unstructured-inference==0.7.18; extra == \"all-docs\"->unstructured[all-docs]) (4.38.1)\n",
      "Requirement already satisfied: importlib-metadata>=4.4; python_version < \"3.10\" in /home/vqa/masterthesis/ourproject/venv8/lib/python3.8/site-packages (from markdown; extra == \"all-docs\"->unstructured[all-docs]) (6.11.0)\n",
      "Requirement already satisfied: olefile>=0.46 in /home/vqa/masterthesis/ourproject/venv8/lib/python3.8/site-packages (from msg-parser; extra == \"all-docs\"->unstructured[all-docs]) (0.47)\n",
      "Requirement already satisfied: exceptiongroup>=1.0.2; python_version < \"3.11\" in /home/vqa/masterthesis/ourproject/venv8/lib/python3.8/site-packages (from anyio<5,>=3->langchain-core<0.2,>=0.1.26->langchain) (1.2.0)\n",
      "Requirement already satisfied: sniffio>=1.1 in /home/vqa/masterthesis/ourproject/venv8/lib/python3.8/site-packages (from anyio<5,>=3->langchain-core<0.2,>=0.1.26->langchain) (1.3.0)\n",
      "Requirement already satisfied: cffi>=1.12 in /home/vqa/masterthesis/ourproject/venv8/lib/python3.8/site-packages (from cryptography>=36.0.0->pdfminer.six; extra == \"all-docs\"->unstructured[all-docs]) (1.16.0)\n",
      "Requirement already satisfied: coloredlogs in /home/vqa/masterthesis/ourproject/venv8/lib/python3.8/site-packages (from onnxruntime<1.16->unstructured-inference==0.7.18; extra == \"all-docs\"->unstructured[all-docs]) (15.0.1)\n",
      "Requirement already satisfied: flatbuffers in /home/vqa/masterthesis/ourproject/venv8/lib/python3.8/site-packages (from onnxruntime<1.16->unstructured-inference==0.7.18; extra == \"all-docs\"->unstructured[all-docs]) (23.5.26)\n",
      "Requirement already satisfied: sympy in /home/vqa/masterthesis/ourproject/venv8/lib/python3.8/site-packages (from onnxruntime<1.16->unstructured-inference==0.7.18; extra == \"all-docs\"->unstructured[all-docs]) (1.12)\n",
      "Requirement already satisfied: pdfplumber in /home/vqa/masterthesis/ourproject/venv8/lib/python3.8/site-packages (from layoutparser[layoutmodels,tesseract]->unstructured-inference==0.7.18; extra == \"all-docs\"->unstructured[all-docs]) (0.10.4)\n",
      "Requirement already satisfied: scipy in /home/vqa/masterthesis/ourproject/venv8/lib/python3.8/site-packages (from layoutparser[layoutmodels,tesseract]->unstructured-inference==0.7.18; extra == \"all-docs\"->unstructured[all-docs]) (1.10.1)\n",
      "Requirement already satisfied: iopath in /home/vqa/masterthesis/ourproject/venv8/lib/python3.8/site-packages (from layoutparser[layoutmodels,tesseract]->unstructured-inference==0.7.18; extra == \"all-docs\"->unstructured[all-docs]) (0.1.10)\n",
      "Requirement already satisfied: torch; extra == \"layoutmodels\" in /home/vqa/masterthesis/ourproject/venv8/lib/python3.8/site-packages (from layoutparser[layoutmodels,tesseract]->unstructured-inference==0.7.18; extra == \"all-docs\"->unstructured[all-docs]) (2.1.2)\n",
      "Requirement already satisfied: torchvision; extra == \"layoutmodels\" in /home/vqa/masterthesis/ourproject/venv8/lib/python3.8/site-packages (from layoutparser[layoutmodels,tesseract]->unstructured-inference==0.7.18; extra == \"all-docs\"->unstructured[all-docs]) (0.16.2)\n",
      "Requirement already satisfied: effdet; extra == \"layoutmodels\" in /home/vqa/masterthesis/ourproject/venv8/lib/python3.8/site-packages (from layoutparser[layoutmodels,tesseract]->unstructured-inference==0.7.18; extra == \"all-docs\"->unstructured[all-docs]) (0.4.1)\n",
      "Requirement already satisfied: pytesseract; extra == \"tesseract\" in /home/vqa/masterthesis/ourproject/venv8/lib/python3.8/site-packages (from layoutparser[layoutmodels,tesseract]->unstructured-inference==0.7.18; extra == \"all-docs\"->unstructured[all-docs]) (0.3.10)\n",
      "Requirement already satisfied: filelock in /home/vqa/masterthesis/ourproject/venv8/lib/python3.8/site-packages (from huggingface-hub->unstructured-inference==0.7.18; extra == \"all-docs\"->unstructured[all-docs]) (3.13.1)\n",
      "Requirement already satisfied: fsspec>=2023.5.0 in /home/vqa/masterthesis/ourproject/venv8/lib/python3.8/site-packages (from huggingface-hub->unstructured-inference==0.7.18; extra == \"all-docs\"->unstructured[all-docs]) (2023.10.0)\n",
      "Requirement already satisfied: tokenizers<0.19,>=0.14 in /home/vqa/masterthesis/ourproject/venv8/lib/python3.8/site-packages (from transformers>=4.25.1->unstructured-inference==0.7.18; extra == \"all-docs\"->unstructured[all-docs]) (0.15.0)\n",
      "Requirement already satisfied: safetensors>=0.4.1 in /home/vqa/masterthesis/ourproject/venv8/lib/python3.8/site-packages (from transformers>=4.25.1->unstructured-inference==0.7.18; extra == \"all-docs\"->unstructured[all-docs]) (0.4.1)\n",
      "Requirement already satisfied: zipp>=0.5 in /home/vqa/masterthesis/ourproject/venv8/lib/python3.8/site-packages (from importlib-metadata>=4.4; python_version < \"3.10\"->markdown; extra == \"all-docs\"->unstructured[all-docs]) (3.17.0)\n",
      "Requirement already satisfied: pycparser in /home/vqa/masterthesis/ourproject/venv8/lib/python3.8/site-packages (from cffi>=1.12->cryptography>=36.0.0->pdfminer.six; extra == \"all-docs\"->unstructured[all-docs]) (2.21)\n",
      "Requirement already satisfied: humanfriendly>=9.1 in /home/vqa/masterthesis/ourproject/venv8/lib/python3.8/site-packages (from coloredlogs->onnxruntime<1.16->unstructured-inference==0.7.18; extra == \"all-docs\"->unstructured[all-docs]) (10.0)\n",
      "Requirement already satisfied: mpmath>=0.19 in /home/vqa/masterthesis/ourproject/venv8/lib/python3.8/site-packages (from sympy->onnxruntime<1.16->unstructured-inference==0.7.18; extra == \"all-docs\"->unstructured[all-docs]) (1.3.0)\n",
      "Requirement already satisfied: pypdfium2>=4.18.0 in /home/vqa/masterthesis/ourproject/venv8/lib/python3.8/site-packages (from pdfplumber->layoutparser[layoutmodels,tesseract]->unstructured-inference==0.7.18; extra == \"all-docs\"->unstructured[all-docs]) (4.27.0)\n",
      "Requirement already satisfied: portalocker in /home/vqa/masterthesis/ourproject/venv8/lib/python3.8/site-packages (from iopath->layoutparser[layoutmodels,tesseract]->unstructured-inference==0.7.18; extra == \"all-docs\"->unstructured[all-docs]) (2.8.2)\n",
      "Requirement already satisfied: nvidia-cublas-cu12==12.1.3.1; platform_system == \"Linux\" and platform_machine == \"x86_64\" in /home/vqa/masterthesis/ourproject/venv8/lib/python3.8/site-packages (from torch; extra == \"layoutmodels\"->layoutparser[layoutmodels,tesseract]->unstructured-inference==0.7.18; extra == \"all-docs\"->unstructured[all-docs]) (12.1.3.1)\n",
      "Requirement already satisfied: nvidia-cuda-runtime-cu12==12.1.105; platform_system == \"Linux\" and platform_machine == \"x86_64\" in /home/vqa/masterthesis/ourproject/venv8/lib/python3.8/site-packages (from torch; extra == \"layoutmodels\"->layoutparser[layoutmodels,tesseract]->unstructured-inference==0.7.18; extra == \"all-docs\"->unstructured[all-docs]) (12.1.105)\n",
      "Requirement already satisfied: nvidia-cusolver-cu12==11.4.5.107; platform_system == \"Linux\" and platform_machine == \"x86_64\" in /home/vqa/masterthesis/ourproject/venv8/lib/python3.8/site-packages (from torch; extra == \"layoutmodels\"->layoutparser[layoutmodels,tesseract]->unstructured-inference==0.7.18; extra == \"all-docs\"->unstructured[all-docs]) (11.4.5.107)\n",
      "Requirement already satisfied: jinja2 in /home/vqa/masterthesis/ourproject/venv8/lib/python3.8/site-packages (from torch; extra == \"layoutmodels\"->layoutparser[layoutmodels,tesseract]->unstructured-inference==0.7.18; extra == \"all-docs\"->unstructured[all-docs]) (3.1.2)\n",
      "Requirement already satisfied: nvidia-cuda-nvrtc-cu12==12.1.105; platform_system == \"Linux\" and platform_machine == \"x86_64\" in /home/vqa/masterthesis/ourproject/venv8/lib/python3.8/site-packages (from torch; extra == \"layoutmodels\"->layoutparser[layoutmodels,tesseract]->unstructured-inference==0.7.18; extra == \"all-docs\"->unstructured[all-docs]) (12.1.105)\n",
      "Requirement already satisfied: nvidia-nvtx-cu12==12.1.105; platform_system == \"Linux\" and platform_machine == \"x86_64\" in /home/vqa/masterthesis/ourproject/venv8/lib/python3.8/site-packages (from torch; extra == \"layoutmodels\"->layoutparser[layoutmodels,tesseract]->unstructured-inference==0.7.18; extra == \"all-docs\"->unstructured[all-docs]) (12.1.105)\n",
      "Requirement already satisfied: nvidia-cufft-cu12==11.0.2.54; platform_system == \"Linux\" and platform_machine == \"x86_64\" in /home/vqa/masterthesis/ourproject/venv8/lib/python3.8/site-packages (from torch; extra == \"layoutmodels\"->layoutparser[layoutmodels,tesseract]->unstructured-inference==0.7.18; extra == \"all-docs\"->unstructured[all-docs]) (11.0.2.54)\n",
      "Requirement already satisfied: triton==2.1.0; platform_system == \"Linux\" and platform_machine == \"x86_64\" in /home/vqa/masterthesis/ourproject/venv8/lib/python3.8/site-packages (from torch; extra == \"layoutmodels\"->layoutparser[layoutmodels,tesseract]->unstructured-inference==0.7.18; extra == \"all-docs\"->unstructured[all-docs]) (2.1.0)\n",
      "Requirement already satisfied: nvidia-curand-cu12==10.3.2.106; platform_system == \"Linux\" and platform_machine == \"x86_64\" in /home/vqa/masterthesis/ourproject/venv8/lib/python3.8/site-packages (from torch; extra == \"layoutmodels\"->layoutparser[layoutmodels,tesseract]->unstructured-inference==0.7.18; extra == \"all-docs\"->unstructured[all-docs]) (10.3.2.106)\n",
      "Requirement already satisfied: nvidia-cusparse-cu12==12.1.0.106; platform_system == \"Linux\" and platform_machine == \"x86_64\" in /home/vqa/masterthesis/ourproject/venv8/lib/python3.8/site-packages (from torch; extra == \"layoutmodels\"->layoutparser[layoutmodels,tesseract]->unstructured-inference==0.7.18; extra == \"all-docs\"->unstructured[all-docs]) (12.1.0.106)\n",
      "Requirement already satisfied: nvidia-nccl-cu12==2.18.1; platform_system == \"Linux\" and platform_machine == \"x86_64\" in /home/vqa/masterthesis/ourproject/venv8/lib/python3.8/site-packages (from torch; extra == \"layoutmodels\"->layoutparser[layoutmodels,tesseract]->unstructured-inference==0.7.18; extra == \"all-docs\"->unstructured[all-docs]) (2.18.1)\n",
      "Requirement already satisfied: nvidia-cudnn-cu12==8.9.2.26; platform_system == \"Linux\" and platform_machine == \"x86_64\" in /home/vqa/masterthesis/ourproject/venv8/lib/python3.8/site-packages (from torch; extra == \"layoutmodels\"->layoutparser[layoutmodels,tesseract]->unstructured-inference==0.7.18; extra == \"all-docs\"->unstructured[all-docs]) (8.9.2.26)\n",
      "Requirement already satisfied: nvidia-cuda-cupti-cu12==12.1.105; platform_system == \"Linux\" and platform_machine == \"x86_64\" in /home/vqa/masterthesis/ourproject/venv8/lib/python3.8/site-packages (from torch; extra == \"layoutmodels\"->layoutparser[layoutmodels,tesseract]->unstructured-inference==0.7.18; extra == \"all-docs\"->unstructured[all-docs]) (12.1.105)\n",
      "Requirement already satisfied: omegaconf>=2.0 in /home/vqa/masterthesis/ourproject/venv8/lib/python3.8/site-packages (from effdet; extra == \"layoutmodels\"->layoutparser[layoutmodels,tesseract]->unstructured-inference==0.7.18; extra == \"all-docs\"->unstructured[all-docs]) (2.3.0)\n",
      "Requirement already satisfied: timm>=0.9.2 in /home/vqa/masterthesis/ourproject/venv8/lib/python3.8/site-packages (from effdet; extra == \"layoutmodels\"->layoutparser[layoutmodels,tesseract]->unstructured-inference==0.7.18; extra == \"all-docs\"->unstructured[all-docs]) (0.9.12)\n",
      "Requirement already satisfied: pycocotools>=2.0.2 in /home/vqa/masterthesis/ourproject/venv8/lib/python3.8/site-packages (from effdet; extra == \"layoutmodels\"->layoutparser[layoutmodels,tesseract]->unstructured-inference==0.7.18; extra == \"all-docs\"->unstructured[all-docs]) (2.0.7)\n",
      "Requirement already satisfied: nvidia-nvjitlink-cu12 in /home/vqa/masterthesis/ourproject/venv8/lib/python3.8/site-packages (from nvidia-cusolver-cu12==11.4.5.107; platform_system == \"Linux\" and platform_machine == \"x86_64\"->torch; extra == \"layoutmodels\"->layoutparser[layoutmodels,tesseract]->unstructured-inference==0.7.18; extra == \"all-docs\"->unstructured[all-docs]) (12.3.101)\n",
      "Requirement already satisfied: MarkupSafe>=2.0 in /home/vqa/masterthesis/ourproject/venv8/lib/python3.8/site-packages (from jinja2->torch; extra == \"layoutmodels\"->layoutparser[layoutmodels,tesseract]->unstructured-inference==0.7.18; extra == \"all-docs\"->unstructured[all-docs]) (2.1.3)\n",
      "Requirement already satisfied: antlr4-python3-runtime==4.9.* in /home/vqa/masterthesis/ourproject/venv8/lib/python3.8/site-packages (from omegaconf>=2.0->effdet; extra == \"layoutmodels\"->layoutparser[layoutmodels,tesseract]->unstructured-inference==0.7.18; extra == \"all-docs\"->unstructured[all-docs]) (4.9.3)\n",
      "Requirement already satisfied: matplotlib>=2.1.0 in /home/vqa/masterthesis/ourproject/venv8/lib/python3.8/site-packages (from pycocotools>=2.0.2->effdet; extra == \"layoutmodels\"->layoutparser[layoutmodels,tesseract]->unstructured-inference==0.7.18; extra == \"all-docs\"->unstructured[all-docs]) (3.7.4)\n",
      "Requirement already satisfied: contourpy>=1.0.1 in /home/vqa/masterthesis/ourproject/venv8/lib/python3.8/site-packages (from matplotlib>=2.1.0->pycocotools>=2.0.2->effdet; extra == \"layoutmodels\"->layoutparser[layoutmodels,tesseract]->unstructured-inference==0.7.18; extra == \"all-docs\"->unstructured[all-docs]) (1.1.1)\n",
      "Requirement already satisfied: fonttools>=4.22.0 in /home/vqa/masterthesis/ourproject/venv8/lib/python3.8/site-packages (from matplotlib>=2.1.0->pycocotools>=2.0.2->effdet; extra == \"layoutmodels\"->layoutparser[layoutmodels,tesseract]->unstructured-inference==0.7.18; extra == \"all-docs\"->unstructured[all-docs]) (4.48.1)\n",
      "Requirement already satisfied: importlib-resources>=3.2.0; python_version < \"3.10\" in /home/vqa/masterthesis/ourproject/venv8/lib/python3.8/site-packages (from matplotlib>=2.1.0->pycocotools>=2.0.2->effdet; extra == \"layoutmodels\"->layoutparser[layoutmodels,tesseract]->unstructured-inference==0.7.18; extra == \"all-docs\"->unstructured[all-docs]) (6.1.1)\n",
      "Requirement already satisfied: kiwisolver>=1.0.1 in /home/vqa/masterthesis/ourproject/venv8/lib/python3.8/site-packages (from matplotlib>=2.1.0->pycocotools>=2.0.2->effdet; extra == \"layoutmodels\"->layoutparser[layoutmodels,tesseract]->unstructured-inference==0.7.18; extra == \"all-docs\"->unstructured[all-docs]) (1.4.5)\n",
      "Requirement already satisfied: pyparsing>=2.3.1 in /home/vqa/masterthesis/ourproject/venv8/lib/python3.8/site-packages (from matplotlib>=2.1.0->pycocotools>=2.0.2->effdet; extra == \"layoutmodels\"->layoutparser[layoutmodels,tesseract]->unstructured-inference==0.7.18; extra == \"all-docs\"->unstructured[all-docs]) (3.1.1)\n",
      "Requirement already satisfied: cycler>=0.10 in /home/vqa/masterthesis/ourproject/venv8/lib/python3.8/site-packages (from matplotlib>=2.1.0->pycocotools>=2.0.2->effdet; extra == \"layoutmodels\"->layoutparser[layoutmodels,tesseract]->unstructured-inference==0.7.18; extra == \"all-docs\"->unstructured[all-docs]) (0.12.1)\n"
     ]
    }
   ],
   "source": [
    "! pip install langchain unstructured[all-docs] pydantic lxml\n"
   ]
  },
  {
   "cell_type": "code",
   "execution_count": 3,
   "metadata": {},
   "outputs": [
    {
     "name": "stderr",
     "output_type": "stream",
     "text": [
      "Some weights of the model checkpoint at microsoft/table-transformer-structure-recognition were not used when initializing TableTransformerForObjectDetection: ['model.backbone.conv_encoder.model.layer2.0.downsample.1.num_batches_tracked', 'model.backbone.conv_encoder.model.layer3.0.downsample.1.num_batches_tracked', 'model.backbone.conv_encoder.model.layer4.0.downsample.1.num_batches_tracked']\n",
      "- This IS expected if you are initializing TableTransformerForObjectDetection from the checkpoint of a model trained on another task or with another architecture (e.g. initializing a BertForSequenceClassification model from a BertForPreTraining model).\n",
      "- This IS NOT expected if you are initializing TableTransformerForObjectDetection from the checkpoint of a model that you expect to be exactly identical (initializing a BertForSequenceClassification model from a BertForSequenceClassification model).\n"
     ]
    }
   ],
   "source": [
    "from typing import Any\n",
    "\n",
    "from pydantic import BaseModel\n",
    "from unstructured.partition.pdf import partition_pdf\n",
    "\n",
    "# Path to save images\n",
    "path = \"/home/vqa/masterthesis/ourproject/\"\n",
    "\n",
    "# Get elements\n",
    "raw_pdf_elements = partition_pdf(\n",
    "    filename=path + \"output.pdf\",\n",
    "    # Using pdf format to find embedded image blocks\n",
    "    extract_images_in_pdf=True,\n",
    "    # Use layout model (YOLOX) to get bounding boxes (for tables) and find titles\n",
    "    # Titles are any sub-section of the document\n",
    "    infer_table_structure=True,\n",
    "    # Post processing to aggregate text once we have the title\n",
    "    chunking_strategy=\"by_title\",\n",
    "    # Chunking params to aggregate text blocks\n",
    "    # Attempt to create a new chunk 3800 chars\n",
    "    # Attempt to keep chunks > 2000 chars\n",
    "    # Hard max on chunks\n",
    "    max_characters=4000,\n",
    "    new_after_n_chars=3800,\n",
    "    combine_text_under_n_chars=2000,\n",
    "    image_output_dir_path=path,\n",
    ")"
   ]
  },
  {
   "cell_type": "code",
   "execution_count": 3,
   "metadata": {},
   "outputs": [
    {
     "data": {
      "text/plain": [
       "{\"<class 'unstructured.documents.elements.CompositeElement'>\": 5}"
      ]
     },
     "execution_count": 3,
     "metadata": {},
     "output_type": "execute_result"
    }
   ],
   "source": [
    "# Create a dictionary to store counts of each type\n",
    "category_counts = {}\n",
    "\n",
    "for element in raw_pdf_elements:\n",
    "    category = str(type(element))\n",
    "    if category in category_counts:\n",
    "        category_counts[category] += 1\n",
    "    else:\n",
    "        category_counts[category] = 1\n",
    "\n",
    "# Unique_categories will have unique elements\n",
    "# TableChunk if Table > max chars set above\n",
    "unique_categories = set(category_counts.keys())\n",
    "category_counts"
   ]
  },
  {
   "cell_type": "code",
   "execution_count": 4,
   "metadata": {},
   "outputs": [
    {
     "name": "stdout",
     "output_type": "stream",
     "text": [
      "0\n",
      "5\n"
     ]
    }
   ],
   "source": [
    "class Element(BaseModel):\n",
    "    type: str\n",
    "    text: Any\n",
    "\n",
    "\n",
    "# Categorize by type\n",
    "categorized_elements = []\n",
    "for element in raw_pdf_elements:\n",
    "    if \"unstructured.documents.elements.Table\" in str(type(element)):\n",
    "        categorized_elements.append(Element(type=\"table\", text=str(element)))\n",
    "    elif \"unstructured.documents.elements.CompositeElement\" in str(type(element)):\n",
    "        categorized_elements.append(Element(type=\"text\", text=str(element)))\n",
    "\n",
    "# Tables\n",
    "table_elements = [e for e in categorized_elements if e.type == \"table\"]\n",
    "print(len(table_elements))\n",
    "\n",
    "# Text\n",
    "text_elements = [e for e in categorized_elements if e.type == \"text\"]\n",
    "print(len(text_elements))"
   ]
  },
  {
   "cell_type": "markdown",
   "metadata": {},
   "source": [
    "Text and Table summaries"
   ]
  },
  {
   "cell_type": "code",
   "execution_count": 5,
   "metadata": {},
   "outputs": [],
   "source": [
    "from langchain_community.chat_models import ChatOllama\n",
    "from langchain_core.output_parsers import StrOutputParser\n",
    "from langchain_core.prompts import ChatPromptTemplate"
   ]
  },
  {
   "cell_type": "code",
   "execution_count": 6,
   "metadata": {},
   "outputs": [],
   "source": [
    "# Prompt\n",
    "prompt_text = \"\"\"You are an assistant tasked with summarizing tables and text. \\\n",
    "Give a concise summary of the table or text. Table or text chunk: {element} \"\"\"\n",
    "prompt = ChatPromptTemplate.from_template(prompt_text)\n",
    "\n",
    "# Summary chain\n",
    "model = ChatOllama(model=\"llama2:7b-chat\")\n",
    "summarize_chain = {\"element\": lambda x: x} | prompt | model | StrOutputParser()"
   ]
  },
  {
   "cell_type": "code",
   "execution_count": 7,
   "metadata": {},
   "outputs": [],
   "source": [
    "# Apply to text\n",
    "texts = [i.text for i in text_elements if i.text != \"\"]\n",
    "text_summaries = summarize_chain.batch(texts, {\"max_concurrency\": 5})"
   ]
  },
  {
   "cell_type": "code",
   "execution_count": 8,
   "metadata": {},
   "outputs": [],
   "source": [
    "# Apply to tables\n",
    "tables = [i.text for i in table_elements]\n",
    "table_summaries = summarize_chain.batch(tables, {\"max_concurrency\": 5})"
   ]
  },
  {
   "cell_type": "markdown",
   "metadata": {},
   "source": [
    "Images summarization"
   ]
  },
  {
   "cell_type": "code",
   "execution_count": 9,
   "metadata": {},
   "outputs": [
    {
     "name": "stdout",
     "output_type": "stream",
     "text": [
      "Contents of the directory /home/vqa/masterthesis/ourproject/figures-test:\n",
      "total 284\n",
      "-rw-rw-r-- 1 vqa vqa  5558 feb 20 13:32 figure-10-8.jpg\n",
      "-rw-rw-r-- 1 vqa vqa   481 feb 22 10:28 figure-10-8.txt\n",
      "-rw-rw-r-- 1 vqa vqa 17142 feb 20 13:32 figure-11-10.jpg\n",
      "-rw-rw-r-- 1 vqa vqa   433 feb 22 10:29 figure-11-10.txt\n",
      "-rw-rw-r-- 1 vqa vqa  6872 feb 20 13:32 figure-11-9.jpg\n",
      "-rw-rw-r-- 1 vqa vqa   742 feb 22 10:27 figure-11-9.txt\n",
      "-rw-rw-r-- 1 vqa vqa  3541 feb 20 13:32 figure-13-11.jpg\n",
      "-rw-rw-r-- 1 vqa vqa   272 feb 22 10:28 figure-13-11.txt\n",
      "-rw-rw-r-- 1 vqa vqa 58014 feb 20 13:32 figure-2-1.jpg\n",
      "-rw-rw-r-- 1 vqa vqa   427 feb 22 10:28 figure-2-1.txt\n",
      "-rw-rw-r-- 1 vqa vqa  2298 feb 20 13:32 figure-2-2.jpg\n",
      "-rw-rw-r-- 1 vqa vqa   247 feb 22 10:29 figure-2-2.txt\n",
      "-rw-rw-r-- 1 vqa vqa 16408 feb 20 13:32 figure-4-3.jpg\n",
      "-rw-rw-r-- 1 vqa vqa   450 feb 22 10:27 figure-4-3.txt\n",
      "-rw-rw-r-- 1 vqa vqa 16593 feb 20 13:32 figure-4-4.jpg\n",
      "-rw-rw-r-- 1 vqa vqa   413 feb 22 10:29 figure-4-4.txt\n",
      "-rw-rw-r-- 1 vqa vqa 57596 feb 20 13:32 figure-5-5.jpg\n",
      "-rw-rw-r-- 1 vqa vqa   783 feb 22 10:28 figure-5-5.txt\n",
      "-rw-rw-r-- 1 vqa vqa  6103 feb 20 13:32 figure-8-6.jpg\n",
      "-rw-rw-r-- 1 vqa vqa   314 feb 22 10:28 figure-8-6.txt\n",
      "-rw-rw-r-- 1 vqa vqa 26666 feb 20 13:32 figure-9-7.jpg\n",
      "-rw-rw-r-- 1 vqa vqa   617 feb 22 10:27 figure-9-7.txt\n",
      "Starting Ollama server with LLaVa...\n"
     ]
    },
    {
     "name": "stdout",
     "output_type": "stream",
     "text": [
      " Response: 1. The image features a map of the United States, specifically focusing on Alaska.\n",
      "2. A small square or rectangle is placed in the top left corner of the map. This could be a representation of Play Modes.\n",
      "Response saved to: /home/vqa/masterthesis/ourproject/figures-test/figure-10-8.txt\n",
      "Starting Ollama server with LLaVa...\n",
      " Response:  The image features an electric device with a couple of batteries attached to it. One of the batteries is located on the left side, and the other one is on the right side of the object. These batteries are connected via wires, with one wire running horizontally across the middle of the scene. The arrangement of these components suggests that they form part of a power supply or an energy storage system.\n",
      "Response saved to: /home/vqa/masterthesis/ourproject/figures-test/figure-11-10.txt\n",
      "Starting Ollama server with LLaVa...\n",
      " Response:  The image features a brown background with white letters on it. There are two words written in large, capitalized text: \"CARE\" and \"COMMUNITY.\" These words appear to be the central focus of the image, standing out against the monochrome backdrop. The boldness of the lettering draws attention to the message being conveyed.\n",
      "Response saved to: /home/vqa/masterthesis/ourproject/figures-test/figure-11-9.txt\n",
      "Starting Ollama server with LLaVa...\n",
      " Response:  The image showcases a Bose logo, which appears to be a combination of text and an emblem.  This prominent advertisement is likely for their audio products or services. The design of the logo seems to emphasize the importance and quality of sound associated with the Bose brand.\n",
      "Response saved to: /home/vqa/masterthesis/ourproject/figures-test/figure-13-11.txt\n",
      "Starting Ollama server with LLaVa...\n",
      " Response: 1967528-430-A11 is printed on a CD player, indicating it's classified as a laser product. This player is located at the bottom of the image, and its label can be seen clearly.\n",
      "Response saved to: /home/vqa/masterthesis/ourproject/figures-test/figure-2-1.txt\n",
      "Starting Ollama server with LLaVa...\n",
      " Response:  The image is a black and white drawing of a trash can with a \"No Littering\" symbol in the form of an x across its opening. It appears to be a small cartoon version of a trash bin, possibly used as a warning or reminder against littering. The emphasis on not throwing away waste is represented by the bold and clear x mark on the drawing.\n",
      "Response saved to: /home/vqa/masterthesis/ourproject/figures-test/figure-2-2.txt\n",
      "Starting Ollama server with LLaVa...\n",
      " Response: 10\n",
      "The image displays a small electronic device, likely a camera or stereo system, with the back of the item exposed. In this case, the front panel is missing, revealing the interior workings and possibly the battery compartment. The backside of the device contains several labels, which could provide information on the specific model or instructions for use. There is also a button visible near the top left corner of the image, indicating that this is likely an electronic device with additional controls.\n",
      "Response saved to: /home/vqa/masterthesis/ourproject/figures-test/figure-4-3.txt\n",
      "Starting Ollama server with LLaVa...\n",
      " Response: \n",
      "The image features a group of four batteries placed next to each other, possibly on top of a charger or in an appliance. Each battery has a unique shape and size, showcasing their individual characteristics. \n",
      "\n",
      "In addition to the batteries, there are also two scissors visible in the image, one located near the left side of the batteries and another near the right side. This combination of batteries and scissors suggests that this scene may be related to a DIY project or an activity involving these items.\n",
      "Response saved to: /home/vqa/masterthesis/ourproject/figures-test/figure-4-4.txt\n",
      "Starting Ollama server with LLaVa...\n",
      " Response:  The image is a detailed diagram of the inner workings of an electronic device, likely a stereo or portable music player. There are multiple labels and arrows pointing to different components within the device. Some key elements include a speaker on the left side and several buttons throughout the scene, such as the pause button towards the top right corner and play buttons located near the center. The diagram also shows the clock face at the top of the device with the time displayed in hours and minutes. There are multiple cords visible within the image, which could be part of the electrical connections within the gadget.\n",
      "Response saved to: /home/vqa/masterthesis/ourproject/figures-test/figure-5-5.txt\n",
      "Starting Ollama server with LLaVa...\n",
      " Response: 1. The image features a close-up view of an electronic device, which appears to be a remote control with a set of buttons. \n",
      "2. At the bottom left corner of the remote, there is a single switch or button marked as \"1.\" It could be associated with volume or channel controls for the device.\n",
      "Response saved to: /home/vqa/masterthesis/ourproject/figures-test/figure-8-6.txt\n",
      "Starting Ollama server with LLaVa...\n",
      " Response:  The image is a graphic display of the volume and time settings on an anti-skip feature. It features a set of eight buttons arranged in two rows, with four buttons placed horizontally at the top row and four more positioned vertically along the bottom row. A timer counter is also shown next to these buttons, which indicates that it counts down from eight to zero. The time display allows users to control how long the anti-skip feature remains active on their device.\n",
      "Response saved to: /home/vqa/masterthesis/ourproject/figures-test/figure-9-7.txt\n"
     ]
    }
   ],
   "source": [
    "%%bash\n",
    "\n",
    "# Define the directory containing the images\n",
    "IMG_DIR=/home/vqa/masterthesis/ourproject/figures-test\n",
    "\n",
    "echo \"Contents of the directory ${IMG_DIR}:\"\n",
    "ls -l \"${IMG_DIR}\"\n",
    "\n",
    "# Loop through each image in the directory\n",
    "for img in \"${IMG_DIR}\"/*.jpg; do\n",
    "    # Extract the base name of the image without extension\n",
    "    base_name=$(basename \"$img\" .jpg)\n",
    "\n",
    "    # Define the output file name based on the image name\n",
    "    output_file=\"${IMG_DIR}/${base_name}.txt\"\n",
    "\n",
    "    # Execute the command and save the output to the defined output file\n",
    "    python3 /home/vqa/masterthesis/ourproject/runllava.py --i \"$img\" --p \"Describe the image in detail. Be specific about graphs, such as bar plots.\" --o \"$output_file\"\n",
    "done"
   ]
  },
  {
   "cell_type": "code",
   "execution_count": 10,
   "metadata": {},
   "outputs": [
    {
     "name": "stdout",
     "output_type": "stream",
     "text": [
      "['\\nThe image features a group of four batteries placed next to each other, possibly on top of a charger or in an appliance. Each battery has a unique shape and size, showcasing their individual characteristics. \\n\\nIn addition to the batteries, there are also two scissors visible in the image, one located near the left side of the batteries and another near the right side. This combination of batteries and scissors suggests that this scene may be related to a DIY project or an activity involving these items.', ' The image is a detailed diagram of the inner workings of an electronic device, likely a stereo or portable music player. There are multiple labels and arrows pointing to different components within the device. Some key elements include a speaker on the left side and several buttons throughout the scene, such as the pause button towards the top right corner and play buttons located near the center. The diagram also shows the clock face at the top of the device with the time displayed in hours and minutes. There are multiple cords visible within the image, which could be part of the electrical connections within the gadget.', ' The image features a brown background with white letters on it. There are two words written in large, capitalized text: \"CARE\" and \"COMMUNITY.\" These words appear to be the central focus of the image, standing out against the monochrome backdrop. The boldness of the lettering draws attention to the message being conveyed.', ' The image features an electric device with a couple of batteries attached to it. One of the batteries is located on the left side, and the other one is on the right side of the object. These batteries are connected via wires, with one wire running horizontally across the middle of the scene. The arrangement of these components suggests that they form part of a power supply or an energy storage system.', ' The image is a black and white drawing of a trash can with a \"No Littering\" symbol in the form of an x across its opening. It appears to be a small cartoon version of a trash bin, possibly used as a warning or reminder against littering. The emphasis on not throwing away waste is represented by the bold and clear x mark on the drawing.', \"1967528-430-A11 is printed on a CD player, indicating it's classified as a laser product. This player is located at the bottom of the image, and its label can be seen clearly.\", ' The image showcases a Bose logo, which appears to be a combination of text and an emblem.  This prominent advertisement is likely for their audio products or services. The design of the logo seems to emphasize the importance and quality of sound associated with the Bose brand.', '1. The image features a map of the United States, specifically focusing on Alaska.\\n2. A small square or rectangle is placed in the top left corner of the map. This could be a representation of Play Modes.', '10\\nThe image displays a small electronic device, likely a camera or stereo system, with the back of the item exposed. In this case, the front panel is missing, revealing the interior workings and possibly the battery compartment. The backside of the device contains several labels, which could provide information on the specific model or instructions for use. There is also a button visible near the top left corner of the image, indicating that this is likely an electronic device with additional controls.', ' The image is a graphic display of the volume and time settings on an anti-skip feature. It features a set of eight buttons arranged in two rows, with four buttons placed horizontally at the top row and four more positioned vertically along the bottom row. A timer counter is also shown next to these buttons, which indicates that it counts down from eight to zero. The time display allows users to control how long the anti-skip feature remains active on their device.', '1. The image features a close-up view of an electronic device, which appears to be a remote control with a set of buttons. \\n2. At the bottom left corner of the remote, there is a single switch or button marked as \"1.\" It could be associated with volume or channel controls for the device.']\n"
     ]
    }
   ],
   "source": [
    "import glob\n",
    "import os\n",
    "\n",
    "path = '/home/vqa/masterthesis/ourproject/figures-test' \n",
    "# Get all .txt files in the directory\n",
    "file_paths = glob.glob(os.path.expanduser(os.path.join(path, \"*.txt\")))\n",
    "\n",
    "# Read each file and store its content in a list\n",
    "img_summaries = []\n",
    "for file_path in file_paths:\n",
    "    with open(file_path, \"r\") as file:\n",
    "        img_summaries.append(file.read())\n",
    "\n",
    "print(img_summaries)\n",
    "\n",
    "# Clean up residual logging\n",
    "cleaned_img_summary = []\n",
    "for s in img_summaries:\n",
    "    split_result = s.split(\"clip_model_load: total allocated memory: 201.27 MB\\n\\n\", 1)\n",
    "    if len(split_result) > 1:\n",
    "        cleaned_img_summary.append(split_result[1].strip())\n",
    "    else:\n",
    "        # Handle cases where split string is not found\n",
    "        cleaned_img_summary.append(s.strip())"
   ]
  },
  {
   "cell_type": "markdown",
   "metadata": {},
   "source": [
    "Vectorstore"
   ]
  },
  {
   "cell_type": "code",
   "execution_count": 11,
   "metadata": {},
   "outputs": [
    {
     "name": "stdout",
     "output_type": "stream",
     "text": [
      "['Declaration of Conformity\\n\\nDECLARATION OF CONFORMITY\\n\\nWe, the offerer: Bose Corporation, The Mountain, Framingham, MA 01701-9168 USA\\n\\nacknowledge our sole responsibility, that the product:\\n\\nKind of equipment: Compact Disc Player Type designation: Bose® Model PM-1 Portable Compact Disc Player\\n\\nIn accordance with EMC Directive 89/336/EEC and Article 10(1) of the Directive, is in compliance with the following norm(s) or document(s) Technical regulations: EN 55013, EN 55020 EN 61000-3-2, -3-3, -4-2, -4-4, -4-5 &\\n\\nin accordance with the Low Voltage Directive 73/23/EEC, is in compliance with the following norm(s) or document(s): Technical regulations: EN 60065, EN 60825\\n\\nAccredited by: Bose Corporation, The Mountain, Framingham, MA 01701-9168 USA\\n\\n24 September 2003\\n\\nNic Merks\\n\\nBose Products B.V. Nijverheidstraat 8, 1135 GE Edam The Netherlands\\n\\nVice President Europe Manufacturer’s authorized EU representative\\n\\nSafety Information Class 1 Laser Product CLASS 1 LASER PRODUCT This CD Player is classified asa CLASS JM *issses Laser proouxt 1 LASER PRODUCT according to EN KLASS 1 LASER APPARAT 60825-1:1994 + Ai1. The CLASS 4 LASER PRODUCT label is located on the bottom of the player.\\n\\na& WARNING: This product utilizes a laser. Invisible radiation is present when unit is opened and interlock failed or defeated.\\n\\na& WARNING: Use of controls or adjustments or performance of procedures other than those specified herein may result in hazardous radiation exposure. The CD player should not be adjusted or repaired by anyone except properly qualified service personnel.\\n\\na& WARNING: Dispose of used batteries promptly K and properly, following any local regulations. Do not incinerate.\\n\\nK\\n\\nInformation about products that generate electrical noise.\\n\\nThis equipment has been tested and found to comply with the limits for a Class B digital device, pursuant to Part 15 of the FCC rules. These limits are designed to provide reasonable protection against harmful interference in a residential installation. This equipment generates, uses, and can radiate radio frequency energy and, if not installed and used in accordance with the instructions, may cause harmful interference to radio communications. However, this is no guarantee that interference will not occur in a particular installation. If this equipment does cause harmful interference to radio or television reception, which can be determined by turning the equipment off and on, you are encouraged to try to correct the interference by one or more of the following measures:\\n\\n¢ Reorient or relocate the receiving antenna.\\n\\n+ Increase the separation between the equipment and receiver.\\n\\n+ Connect the equipment to an outlet on a different circuit than the one to which the receiver is connected.\\n\\n+ Consult the dealer or an experienced radio/TV technician for help. Note: Modifications or adjustments to this equipment which are not expressly approved by the manufacturer may void the user’s right or authority to operate this equipment.\\n\\nThis product complies with the Canadian ICES-0003 Class B specifications.', 'Safety Information\\n\\nA Caution: Long term exposure to loud music may cause hearing damage. It is best to avoid extreme volume when using headphones with this CD Player, especially for extended periods.\\n\\n4 Caution: Do not use this product with headphones when operating a motor vehicle on a public road, or where the inability to hear outside sounds may present a danger.\\n\\n4 Caution: If you hear no sound when playing a disc, DO NOT turn the volume up high because music could suddenly start at high volume. Turn the volume control to the lowest level before starting playback and slowly increase volume to the desired level.\\n\\n2 Note: If the CD player is brought from a cold to a warm location, moisture may condense inside, causing it to stop working. Should this occur, remove the disc and leave the player in a warm location for several hours to allow the moisture to evaporate.\\n\\n2 Note: Use the player with 2 AA batteries (LRO6 alkaline). The CD Player is not supplied with an AC adapter. Use only a safety agency approved 6V DC 350mA AC adapter. Plus pole (+) to the center pin of the 3.5mm socket. When the unit is not used, be sure to disconnect the AC power adapter.\\n\\nCustomer Service\\n\\nFor additional help in solving problems, contact your Bose dealer. Or, to contact Bose® Customer Service, refer to the list on page 13 of this guide.\\n\\n©2003 Bose Corporation. No part of this work may be reproduced, modified, distributed, or otherwise used without prior written permission.\\n\\n4\\n\\nAbout Your CD Player\\n\\nBefore you use the Bose® PM-1 Portable Compact Disc Player\\n\\nThis guide will help you enjoy the compact disc player that came with your Bose® product.\\n\\nLoad the Batteries\\n\\nSlide the compartment door as shown. The diagram next to the compartment door shows the positioning of the positive and negative battery terminals.\\n\\nUnlock the Hold Switch\\n\\nThe Hold switch, located on the back of the player, may be ON when shipped from the factory. This prevents the controls from operating.\\n\\nMove the Hold switch to OFF to disable Hold and unlock all controls. Turn Hold ON to prevent accidental operation of the controls.', 'Use\\n\\nConnecting Headphones\\n\\nTo make the headphone connection, insert the headphone plug in the jack on the side of the CD player.\\n\\nSelecting Compatible Discs\\n\\nYour CD player can play audio CDs, CD-Rs, and CD-RWs.\\n\\nThe CD Player Controls\\n\\nPrevious Track Anti-Skip Volume + Open Switch\\n\\nThe CD player controls are explained on the following pages.\\n\\nUse\\n\\nCD Player Controls\\n\\nOpen Switch\\n\\nSlide the switch to the right to open the CD compartment. Place a CD inside the compartment, with the printed side facing upwards. Press down gently until it clicks in place. Press the CD door to close.\\n\\nDPEN indicates the compartment door is open.\\n\\n_”\" | Play/Pause Button\\n\\nPress to turn the CD player ON or to play a track when the player is stopped, paused, or OFF. The CD player will continue playing until Pause or Stop are pressed or all tracks are played.\\n\\nWhen a CD is playing, press Play/Pause to pause a track. The player will remain paused until:\\n\\n¢ Play/Pause is pressed to resume play, or,\\n\\n¢ Stop is pressed.\\n\\nWhen the player is OFF or stopped, press Play/Pause to play the first track on the CD.\\n\\n\\'*” Stop Button\\n\\nPress to stop play of the current track.\\n\\nPlay remains stopped until: Play/Pause is pressed to play the track, or, Stop is pressed to turn the player OFF.\\n\\nWhile a CD is playing, press the Stop button twice to turn the player OFF.\\n\\nlf a track is paused, press Stop to display the total number of tracks and total time of the CD. Play remains stopped.\\n\\nUse\\n\\nNext Track/Previous Track Button\\n\\nyet. When aCbD is being played, press this button to advance to the next track. If the last track on a CD is being played, pressing Next Track will advance play to the first track on the CD.\\n\\n\\'#«_ When a CD is being played, press the Previous Track button to play the beginning of that track. Press the button again, within one second of the first press, to play the previous track.\\n\\nWhen a track is being played, press and hold the Next Track or Previous Track button to scan forward or backward through the current track. When the track ends, scanning will continue until the button is released.\\n\\nWhen no track is being played, press and hold the Next Track or Previous Track button to scroll forward or backward across all tracks until the button is released.\\n\\nVolume Up/Volume Down Buttons\\n\\nUse these buttons to adjust playback volume. The display shows a volume of 4 when the player is first turned on. There are 31 volume settings, from a minimum of 0 to a maximum of 31.\\n\\n‘ ea *.', 'al\\n\\nPress the Volume Up or Volume Down /™. button once to increase or decrease the volume by one setting.\\n\\nPress and hold either volume button to continuously increase or decrease the volume settings.\\n\\nVolume may be adjusted during playback or when the player is stopped.\\n\\nVOLUME displays when the volume is adjusted.\\n\\nUse\\n\\nAnti-Skip Button\\n\\n/ 3 /\\n\\n\\\\_! The Anti-Skip button reduces skipping if the CD player is moved during playback. This feature is ON by default.\\n\\nANTI-SKIP displays when the feature is ON.\\n\\nPress the Anti-Skip control to disable or re-activate this feature during Play, Pause, or Stop modes.\\n\\n2 Note: Activating Anti-Skip may degrade playback quality. Hold\\n\\nYou can lock the CD player to prevent the settings from changing during playback or when the player is OFF.\\n\\nMove the Hold switch, located on the back of the player, to ON to enable Hold and lock all controls.\\n\\n& is displayed to indicate Hold is activated.\\n\\nYou will not be able to operate the controls of the CD player until the Hold switch is set to OFF.\\n\\nWhen the player is OFF, & will flash momentarily when you press Play/Pause when Hold is ON.\\n\\nThe Hold symbol is not displayed when Hold is OFF.\\n\\nThe\\n\\nUse CD Display Window | VOLUME <S @ — ANTI-SKIP 86 6400 REPEAT ALL INTRO SHUFFLE\\n\\nTrack and Time\\n\\nWhen a CD is first loaded, and the Play/Pause button is pushed, the numerals in the center of the window show the total number of tracks and the total time of the CD for one second.\\n\\nWhen the volume is being adjusted, the volume graphic appears at the top left of the display, and the volume level, from 0 to 31, is displayed in the same location as the track number.\\n\\nWhen a CD track is playing, the track number and the elapsed time of that track is displayed. The track number and elapsed time are displayed immediately after Play has been pressed, and remain on the display window until the selected track has ended.\\n\\nWhen a CD is paused, the track number continues to be displayed, and the elapsed time flashes at the point where playback was paused.\\n\\nWhen the CD player is OFF, the display is blank.\\n\\nan Low Battery Symbol\\n\\nWhen about 10 minutes of playing time remain, the low battery symbol appears and flashes until the player is turned OFF or the battery runs out of power.\\n\\nd ISC Error Text\\n\\nThis indicates there is no CD in the player, the CD is upside-down, or its format cannot be read. The message displays for thirty seconds and the player turns OFF.\\n\\n10', 'Use\\n\\nLin Play Modes \\\\_\\\\\\n\\nPress the Mode button to cycle through the five Play Modes:\\n\\nNormal - press Play\\n\\nThis is the default mode when Play is pressed. No graphic is displayed.\\n\\nRepeat — press Mode once\\n\\nIn Normal mode, press the Mode button once to repeat the selected track. The track will be repeated until Next Track/Previous Track, Mode, or Stop is pressed. REPEAT indicates Repeat mode is selected.\\n\\nRepeat All - press Mode twice\\n\\nIn Normal mode, press the Mode button twice to repeat all the tracks on the CD. The CD will repeat until the Play Mode is changed, or the player is Stopped.\\n\\nREPEAT ALL indicates Repeat All mode is selected.\\n\\nIntro — press Mode three times\\n\\nIn Normal mode, press the Mode button three times to play approximately ten seconds of each track on the CD. When all tracks have been played, the player stops. If no track is playing when Intro is activated, press Play to begin playback in Intro mode.\\n\\nINTRO indicates /ntro mode is selected.\\n\\nShuffle — press Mode four times In Normal mode, press the Mode button four times to play all the tracks on the CD in random order. When all tracks have been played, the player stops.\\n\\nIf no track is playing when Shuffle is activated, press Play to begin playback in Shuffle mode. The player skips to the next shuffled track and begins playback. SHUFFLE indicates Shuffle mode is selected.\\n\\nIl\\n\\nBattery Replacement\\n\\nThe CD player uses two AA (LRO6 alkaline) batteries. Do not mix old and new batteries.\\n\\nInsert the batteries into the player with the positive and negative battery terminals aligned with + and — symbols shown on the case next to the battery compartment\\n\\n2 Note: You can use rechargeable batteries (NiMH, composed of nickel metal hydride, are recommended). They average half the life of alkaline batteries. However, the low battery symbol is not set for such batteries and will not be a reliable indicator of their remaining battery life. Do not mix alkaline and rechargeable batteries.\\n\\nCleaning the CD Player\\n\\nCleaning is not necessary. However, you can simply wipe the outside surfaces with a soft cloth, as needed.\\n\\n12\\n\\nEurope Phone: 0299 390111 Fax: 0299 390114\\n\\nAustralia Phone: 1800 023 367 www.bose.com.au\\n\\nBelgique/Belgié Phone: 012 390800 Fax: 012 390840\\n\\nCanada 1-800-4652673\\n\\nDanmark Phone: 04343 7777 Fax: 04343 7818\\n\\nDeutschland Phone: 06172-71040 Fax: 06172-710419 www.bose.de\\n\\nFrance Phone: 01-30616363 Fax: 01-30614105\\n\\nTreland Phone: 042-9661988 Fax: 042-9661988 www.bose.ie\\n\\nItalia Phone: 066-5670802 Fax: 066-5680167\\n\\n14\\n\\nNederland Phone: 0299 390111 Fax: 0299 390109\\n\\nNew Zealand Phone: 61 2 8737 99567 (Australian number)\\n\\nNorge Phone: 62 82 15 60 Fax: 62 82 15 69\\n\\nOsterreich Phone: 01-60404340 Fax: 01-604043423\\n\\nSchweiz Phone: 061-98 15544 Fax: 061-9815502\\n\\nSverige Phone: 031-878850 Fax: 031-274891\\n\\nUnited Kingdom Phone: 0800 614293 0870 7414500 Fax: 08707414545 www.bose.co.uk\\n\\n0870 7414500\\n\\nUnited States Phone: 1-888-757-9943 Fax: 1-877-289-4366 www.bose.com\\n\\na\\n\\n©2003 Bose Corporation, The Mountain, Framingham, MA 01701-9168 USA PN 273580 AM Rev.00 JN000112']\n"
     ]
    }
   ],
   "source": [
    "print(texts)"
   ]
  },
  {
   "cell_type": "code",
   "execution_count": 25,
   "metadata": {},
   "outputs": [
    {
     "name": "stdout",
     "output_type": "stream",
     "text": [
      "Length of image_text_summaries: 5\n"
     ]
    }
   ],
   "source": [
    "print(\"Length of image_text_summaries:\", len(text_summaries))"
   ]
  },
  {
   "cell_type": "code",
   "execution_count": 24,
   "metadata": {},
   "outputs": [
    {
     "name": "stdout",
     "output_type": "stream",
     "text": [
      "Length of image_text_elements: 5\n"
     ]
    }
   ],
   "source": [
    "print(\"Length of image_text_elements:\", len(texts))"
   ]
  },
  {
   "cell_type": "code",
   "execution_count": 12,
   "metadata": {},
   "outputs": [],
   "source": [
    "import uuid\n",
    "\n",
    "from langchain.retrievers.multi_vector import MultiVectorRetriever\n",
    "from langchain.storage import InMemoryStore\n",
    "from langchain_community.vectorstores import Chroma\n",
    "from langchain_community.embeddings import HuggingFaceEmbeddings\n",
    "from langchain_core.documents import Document\n",
    "\n",
    "# The vectorstore to use to index the child chunks\n",
    "vectorstore = Chroma(\n",
    "        collection_name=\"summaries\", embedding_function = HuggingFaceEmbeddings(model_name=\"sentence-transformers/all-MiniLM-L6-v2\")\n",
    "    )\n",
    "\n",
    "# The storage layer for the parent documents\n",
    "store = InMemoryStore()  # <- Can we extend this to images\n",
    "id_key = \"doc_id\"\n",
    "\n",
    "# The retriever (empty to start)\n",
    "retriever = MultiVectorRetriever(\n",
    "    vectorstore=vectorstore,\n",
    "    docstore=store,\n",
    "    id_key=id_key,\n",
    ")"
   ]
  },
  {
   "cell_type": "code",
   "execution_count": 13,
   "metadata": {},
   "outputs": [],
   "source": [
    "# Add texts\n",
    "doc_ids = [str(uuid.uuid4()) for _ in texts]\n",
    "summary_texts = [\n",
    "    Document(page_content=s, metadata={id_key: doc_ids[i]})\n",
    "    for i, s in enumerate(text_summaries)\n",
    "]\n",
    "retriever.vectorstore.add_documents(summary_texts)\n",
    "retriever.docstore.mset(list(zip(doc_ids, texts)))\n",
    "\n",
    "# # Add tables\n",
    "# table_ids = [str(uuid.uuid4()) for _ in tables]\n",
    "# summary_tables = [\n",
    "#     Document(page_content=s, metadata={id_key: table_ids[i]})\n",
    "#     for i, s in enumerate(table_summaries)\n",
    "# ]\n",
    "# retriever.vectorstore.add_documents(summary_tables)\n",
    "# retriever.docstore.mset(list(zip(table_ids, tables)))\n",
    "\n",
    "# Add images\n",
    "img_ids = [str(uuid.uuid4()) for _ in cleaned_img_summary]\n",
    "summary_img = [\n",
    "    Document(page_content=s, metadata={id_key: img_ids[i]})\n",
    "    for i, s in enumerate(cleaned_img_summary)\n",
    "]\n",
    "retriever.vectorstore.add_documents(summary_img)\n",
    "retriever.docstore.mset(\n",
    "    list(zip(img_ids, cleaned_img_summary))\n",
    ")  # Store the image summary as the raw document"
   ]
  },
  {
   "cell_type": "code",
   "execution_count": 14,
   "metadata": {},
   "outputs": [
    {
     "data": {
      "text/plain": [
       "'The image features a brown background with white letters on it. There are two words written in large, capitalized text: \"CARE\" and \"COMMUNITY.\" These words appear to be the central focus of the image, standing out against the monochrome backdrop. The boldness of the lettering draws attention to the message being conveyed.'"
      ]
     },
     "execution_count": 14,
     "metadata": {},
     "output_type": "execute_result"
    }
   ],
   "source": [
    "retriever.get_relevant_documents(\"Images / mona lisa\")[\n",
    "    0\n",
    "]"
   ]
  },
  {
   "cell_type": "markdown",
   "metadata": {},
   "source": [
    "RAG"
   ]
  },
  {
   "cell_type": "code",
   "execution_count": 15,
   "metadata": {},
   "outputs": [],
   "source": [
    "from langchain_core.runnables import RunnablePassthrough\n",
    "\n",
    "# Prompt template\n",
    "template = \"\"\"Answer the question based only on the following context, which can include text and tables:\n",
    "{context}\n",
    "Question: {question}\n",
    "\"\"\"\n",
    "prompt = ChatPromptTemplate.from_template(template)\n",
    "\n",
    "# Option 1: LLM\n",
    "model = ChatOllama(model=\"llama2:7b-chat\")\n",
    "# Option 2: Multi-modal LLM\n",
    "# model = LLaVA\n",
    "\n",
    "# RAG pipeline\n",
    "chain = (\n",
    "    {\"context\": retriever, \"question\": RunnablePassthrough()}\n",
    "    | prompt\n",
    "    | model\n",
    "    | StrOutputParser()\n",
    ")"
   ]
  },
  {
   "cell_type": "code",
   "execution_count": 16,
   "metadata": {},
   "outputs": [
    {
     "data": {
      "text/plain": [
       "'The CD player uses two AA (LRO6 alkaline) batteries.'"
      ]
     },
     "execution_count": 16,
     "metadata": {},
     "output_type": "execute_result"
    }
   ],
   "source": [
    "chain.invoke(\n",
    "    \"Which battery does the CD player use?\"\n",
    ")"
   ]
  },
  {
   "cell_type": "code",
   "execution_count": 17,
   "metadata": {},
   "outputs": [
    {
     "data": {
      "text/plain": [
       "'The CD player can play compact discs.'"
      ]
     },
     "execution_count": 17,
     "metadata": {},
     "output_type": "execute_result"
    }
   ],
   "source": [
    "chain.invoke(\n",
    "    \"What can the CD player play?\"\n",
    ")"
   ]
  },
  {
   "cell_type": "code",
   "execution_count": 18,
   "metadata": {},
   "outputs": [
    {
     "data": {
      "text/plain": [
       "'The manual does not recommend cleaning the CD player, stating that it is not necessary and that simply wiping the outside surfaces with a soft cloth will be sufficient as needed. Therefore, it is not recommended to clean the CD player.'"
      ]
     },
     "execution_count": 18,
     "metadata": {},
     "output_type": "execute_result"
    }
   ],
   "source": [
    "chain.invoke(\"Should I clean the CD player?\")"
   ]
  },
  {
   "cell_type": "code",
   "execution_count": 19,
   "metadata": {},
   "outputs": [
    {
     "data": {
      "text/plain": [
       "\"Based on the provided context, there is no direct answer to the question regarding the performance of LLaVa across multiple image domains/subjects. The provided context only refers to images featuring a map of the United States with a small square or rectangle placed in the top left corner, representing Play Modes. There are also images related to an anti-skip feature and a declaration of conformity for a Bose PM-1 Portable Compact Disc Player.\\n\\nHowever, it is possible to infer some information about LLaVa's performance across multiple image domains/subjects based on the context provided:\\n\\n1. The presence of images related to different subjects (e.g., maps, anti-skip features, declaration of conformity) suggests that LLaVa may be capable of processing and analyzing various types of visual content.\\n2. The fact that the images are labeled with specific technical regulations (e.g., EN 55013, EN 55020, etc.) and accreditation information implies that LLaVa may be designed to operate within specific technical standards and guidelines.\\n3. The absence of any explicit mention of LLaVa's performance across multiple image domains/subjects suggests that the provided context does not provide direct evidence of its capabilities in this regard.\\n\\nIn summary, while the provided context provides some indirect clues about LLaVa's potential performance across multiple image domains/subjects, it does not offer any definitive answers to this question.\""
      ]
     },
     "execution_count": 19,
     "metadata": {},
     "output_type": "execute_result"
    }
   ],
   "source": [
    "chain.invoke(\n",
    "    \"What is the performance of LLaVa across across multiple image domains / subjects?\"\n",
    ")"
   ]
  },
  {
   "cell_type": "code",
   "execution_count": 20,
   "metadata": {},
   "outputs": [
    {
     "data": {
      "text/plain": [
       "'Ah, I see! Based on the context you provided, the \"chicken nugget\" picture is likely a humorous representation of a complex electronic device. The image features multiple buttons and cords, which are often associated with electronic devices. However, the addition of a chicken nugget in the center of the image creates a playful and absurd contrast, implying that the device is not just functional but also tasty!\\n\\nPerhaps the image is meant to represent a fictional gadget that combines the functions of a stereo, portable music player, and a snack dispenser. The buttons on top could be for playing music, pausing, or adjusting the volume, while the cords suggest that it needs to be plugged into an outlet to function. The chicken nugget, however, adds a whimsical touch, suggesting that this device is not just practical but also indulgent.\\n\\nOverall, the \"chicken nugget\" picture appears to be a humorous take on the typical electronic device diagram, using absurdity and exaggeration to create a comical effect.'"
      ]
     },
     "execution_count": 20,
     "metadata": {},
     "output_type": "execute_result"
    }
   ],
   "source": [
    "chain.invoke(\n",
    "    \"Explain the chicken nugget picture.\"\n",
    ")"
   ]
  },
  {
   "cell_type": "code",
   "execution_count": 21,
   "metadata": {},
   "outputs": [
    {
     "data": {
      "text/plain": [
       "\"I apologize, but based on the context provided, there are no foods visible in the image. The scene depicts a group of batteries placed next to each other, along with two scissors. There is also a map of the United States and a detailed diagram of an electronic device's inner workings. However, there are no foods or any related elements visible in the images. Therefore, I cannot list any foods in the picture.\""
      ]
     },
     "execution_count": 21,
     "metadata": {},
     "output_type": "execute_result"
    }
   ],
   "source": [
    "chain.invoke(\n",
    "    \"List the foods in the picture of the firdge.\"\n",
    ")"
   ]
  },
  {
   "cell_type": "code",
   "execution_count": 22,
   "metadata": {},
   "outputs": [
    {
     "data": {
      "text/plain": [
       "' Based on the provided pictures, I can infer that the LLaVA architecture is likely a modular and hierarchical design, with multiple components working together to form a cohesive system. Here are some key observations and insights:\\n\\n1. Modular design: The image features multiple components, each with its own unique function or role. These components include the speaker, buttons, clock face, batteries, and wires. This suggests that LLaVA architecture is designed to be modular, with each component playing a specific role in the overall system.\\n2. Hierarchical structure: The image shows multiple levels of organization within the device. For example, the battery compartment appears to be located inside the main body of the device, which suggests a hierarchical structure with the batteries serving as a subcomponent of the device. Similarly, the buttons and clock face are also organized in a hierarchical manner, with the buttons being part of the overall user interface and the clock face serving as a display component.\\n3. Interconnected components: The image shows that the different components within the device are interconnected. For example, the buttons are connected to the main circuit board via wires, and the batteries are connected to each other via wires as well. This suggests that the components within LLaVA architecture are designed to work together seamlessly, with each component relying on others to function properly.\\n4. Power supply: The image features two batteries connected via wires, which suggests that power supply is an important aspect of LLaVA architecture. This is further reinforced by the presence of a charging circuit board, which implies that power management is a critical component of the overall system.\\n5. User interface: The image shows multiple buttons and a display screen, which suggests that user interface is also an important aspect of LLaVA architecture. This is consistent with the idea that users should be able to interact with the device in a intuitive and easy-to-use manner.\\n\\nBased on these observations, it seems likely that LLaVA architecture is designed to be modular, hierarchical, and interconnected, with multiple components working together to form a cohesive system. The presence of power supply and user interface components also supports this interpretation.'"
      ]
     },
     "execution_count": 22,
     "metadata": {},
     "output_type": "execute_result"
    }
   ],
   "source": [
    "chain.invoke(\n",
    "    \"Explain the LLaVA architecture based on the picture.\"\n",
    ")"
   ]
  }
 ],
 "metadata": {
  "kernelspec": {
   "display_name": "mpmqa-venv",
   "language": "python",
   "name": "python3"
  },
  "language_info": {
   "codemirror_mode": {
    "name": "ipython",
    "version": 3
   },
   "file_extension": ".py",
   "mimetype": "text/x-python",
   "name": "python",
   "nbconvert_exporter": "python",
   "pygments_lexer": "ipython3",
   "version": "3.8.10"
  }
 },
 "nbformat": 4,
 "nbformat_minor": 2
}
